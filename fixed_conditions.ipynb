{
 "cells": [
  {
   "cell_type": "code",
   "execution_count": null,
   "id": "68872ee6",
   "metadata": {},
   "outputs": [],
   "source": [
    "renewable_gen = pd.read_csv(renewable_path)\n",
    "caiso_wind_cap = 6284\n",
    "caiso_solar_cap = 21043 \n",
    "DC_wind_cap = 120\n",
    "DC_solar_cap = 120\n",
    "caiso_wind_gen = renewable_gen[\"WND\"]\n",
    "caiso_solar_gen = renewable_gen[\"SUN\"]\n",
    "DC_wind_gen = (caiso_wind_gen/caiso_wind_cap)*DC_wind_cap\n",
    "DC_solar_gen = (caiso_solar_gen/caiso_solar_cap)*DC_solar_cap\n",
    "DC_solar_gen.head()\n",
    "Carbon_intensity = renewable_gen[\"avg_CI\"].to_list()\n"
   ]
  },
  {
   "cell_type": "code",
   "execution_count": null,
   "id": "14edf8e5",
   "metadata": {},
   "outputs": [
    {
     "data": {
      "text/plain": [
       "[5.6,\n",
       " 4.4,\n",
       " 5.0,\n",
       " 4.4,\n",
       " 4.7,\n",
       " 4.4,\n",
       " 3.9,\n",
       " 6.7,\n",
       " 10.0,\n",
       " 12.8,\n",
       " 15.6,\n",
       " 17.2,\n",
       " 18.3,\n",
       " 19.4,\n",
       " 18.9,\n",
       " 14.4,\n",
       " 12.8,\n",
       " 12.2,\n",
       " 11.7,\n",
       " 10.6,\n",
       " 10.0,\n",
       " 8.3,\n",
       " 7.8,\n",
       " 7.2]"
      ]
     },
     "execution_count": 26,
     "metadata": {},
     "output_type": "execute_result"
    }
   ],
   "source": []
  },
  {
   "cell_type": "code",
   "execution_count": null,
   "id": "be05a830",
   "metadata": {},
   "outputs": [
    {
     "data": {
      "text/plain": [
       "[5.6,\n",
       " 4.4,\n",
       " 5.0,\n",
       " 4.4,\n",
       " 4.7,\n",
       " 4.4,\n",
       " 3.9,\n",
       " 6.7,\n",
       " 10.0,\n",
       " 12.8,\n",
       " 15.6,\n",
       " 17.2,\n",
       " 18.3,\n",
       " 19.4,\n",
       " 18.9,\n",
       " 14.4,\n",
       " 12.8,\n",
       " 12.2,\n",
       " 11.7,\n",
       " 10.6,\n",
       " 10.0,\n",
       " 8.3,\n",
       " 7.8,\n",
       " 7.2]"
      ]
     },
     "execution_count": 28,
     "metadata": {},
     "output_type": "execute_result"
    }
   ],
   "source": []
  }
 ],
 "metadata": {
  "kernelspec": {
   "display_name": "Python 3",
   "language": "python",
   "name": "python3"
  },
  "language_info": {
   "codemirror_mode": {
    "name": "ipython",
    "version": 3
   },
   "file_extension": ".py",
   "mimetype": "text/x-python",
   "name": "python",
   "nbconvert_exporter": "python",
   "pygments_lexer": "ipython3",
   "version": "3.12.1"
  }
 },
 "nbformat": 4,
 "nbformat_minor": 5
}
