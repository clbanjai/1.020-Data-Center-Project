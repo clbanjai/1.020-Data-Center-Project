{
 "cells": [
  {
   "cell_type": "markdown",
   "id": "2de0590e",
   "metadata": {},
   "source": [
    "### This is the one "
   ]
  },
  {
   "cell_type": "markdown",
   "id": "fe6e60f7",
   "metadata": {},
   "source": []
  }
 ],
 "metadata": {
  "language_info": {
   "name": "python"
  }
 },
 "nbformat": 4,
 "nbformat_minor": 5
}
